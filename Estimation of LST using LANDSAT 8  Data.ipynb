{
 "cells": [
  {
   "cell_type": "code",
   "execution_count": 1,
   "id": "b9af524e",
   "metadata": {},
   "outputs": [],
   "source": [
    "import rasterio\n",
    "from rasterio.plot import show\n",
    "import numpy as np"
   ]
  },
  {
   "cell_type": "code",
   "execution_count": 17,
   "id": "62196938",
   "metadata": {},
   "outputs": [],
   "source": [
    "lred=rasterio.open(r\"C:\\Users\\Ahammad Sahil\\Desktop\\SEM 2\\GA LAB\\nikil\\satelite\\landsat08\\landsat 8\\LC08_L1TP_144053_20210214_20210304_01_T1\\LC08_L1TP_144053_20210214_20210304_01_T1_B4.TIF\")\n",
    "lgreen=rasterio.open(r\"C:\\Users\\Ahammad Sahil\\Desktop\\SEM 2\\GA LAB\\nikil\\satelite\\landsat08\\landsat 8\\LC08_L1TP_144053_20210214_20210304_01_T1\\LC08_L1TP_144053_20210214_20210304_01_T1_B3.TIF\")\n",
    "lblue=rasterio.open(r\"C:\\Users\\Ahammad Sahil\\Desktop\\SEM 2\\GA LAB\\nikil\\satelite\\landsat08\\landsat 8\\LC08_L1TP_144053_20210214_20210304_01_T1\\LC08_L1TP_144053_20210214_20210304_01_T1_B2.TIF\")\n",
    "lnir=rasterio.open(r\"C:\\Users\\Ahammad Sahil\\Desktop\\SEM 2\\GA LAB\\nikil\\satelite\\landsat08\\landsat 8\\LC08_L1TP_144053_20210214_20210304_01_T1\\LC08_L1TP_144053_20210214_20210304_01_T1_B5.TIF\")"
   ]
  },
  {
   "cell_type": "code",
   "execution_count": 3,
   "id": "054ee267",
   "metadata": {},
   "outputs": [
    {
     "data": {
      "text/plain": [
       "array([[[0., 0., 0., ..., 0., 0., 0.],\n",
       "        [0., 0., 0., ..., 0., 0., 0.],\n",
       "        [0., 0., 0., ..., 0., 0., 0.],\n",
       "        ...,\n",
       "        [0., 0., 0., ..., 0., 0., 0.],\n",
       "        [0., 0., 0., ..., 0., 0., 0.],\n",
       "        [0., 0., 0., ..., 0., 0., 0.]]])"
      ]
     },
     "execution_count": 3,
     "metadata": {},
     "output_type": "execute_result"
    }
   ],
   "source": [
    "lred_c=lred.read().astype('float64') \n",
    "lred_c"
   ]
  },
  {
   "cell_type": "code",
   "execution_count": 43,
   "id": "2b8d8e77",
   "metadata": {},
   "outputs": [
    {
     "ename": "AttributeError",
     "evalue": "'DatasetReader' object has no attribute 'ReadAsArray'",
     "output_type": "error",
     "traceback": [
      "\u001b[1;31m---------------------------------------------------------------------------\u001b[0m",
      "\u001b[1;31mAttributeError\u001b[0m                            Traceback (most recent call last)",
      "Input \u001b[1;32mIn [43]\u001b[0m, in \u001b[0;36m<cell line: 1>\u001b[1;34m()\u001b[0m\n\u001b[1;32m----> 1\u001b[0m lred_c1\u001b[38;5;241m=\u001b[39m\u001b[43mlred\u001b[49m\u001b[38;5;241;43m.\u001b[39;49m\u001b[43mReadAsArray\u001b[49m()\n\u001b[0;32m      2\u001b[0m lred_c1\n",
      "\u001b[1;31mAttributeError\u001b[0m: 'DatasetReader' object has no attribute 'ReadAsArray'"
     ]
    }
   ],
   "source": [
    "#lred_c1=lred.ReadAsArray()\n",
    "#lred_c1"
   ]
  },
  {
   "cell_type": "code",
   "execution_count": 4,
   "id": "bfb3a875",
   "metadata": {},
   "outputs": [
    {
     "data": {
      "text/plain": [
       "array([[[0., 0., 0., ..., 0., 0., 0.],\n",
       "        [0., 0., 0., ..., 0., 0., 0.],\n",
       "        [0., 0., 0., ..., 0., 0., 0.],\n",
       "        ...,\n",
       "        [0., 0., 0., ..., 0., 0., 0.],\n",
       "        [0., 0., 0., ..., 0., 0., 0.],\n",
       "        [0., 0., 0., ..., 0., 0., 0.]]])"
      ]
     },
     "execution_count": 4,
     "metadata": {},
     "output_type": "execute_result"
    }
   ],
   "source": [
    "lgreen_c=lgreen.read().astype('float64') \n",
    "lgreen_c"
   ]
  },
  {
   "cell_type": "code",
   "execution_count": 5,
   "id": "f497d11f",
   "metadata": {},
   "outputs": [
    {
     "data": {
      "text/plain": [
       "array([[[0., 0., 0., ..., 0., 0., 0.],\n",
       "        [0., 0., 0., ..., 0., 0., 0.],\n",
       "        [0., 0., 0., ..., 0., 0., 0.],\n",
       "        ...,\n",
       "        [0., 0., 0., ..., 0., 0., 0.],\n",
       "        [0., 0., 0., ..., 0., 0., 0.],\n",
       "        [0., 0., 0., ..., 0., 0., 0.]]])"
      ]
     },
     "execution_count": 5,
     "metadata": {},
     "output_type": "execute_result"
    }
   ],
   "source": [
    "lblue_c = lblue.read().astype('float64') \n",
    "lblue_c"
   ]
  },
  {
   "cell_type": "code",
   "execution_count": 18,
   "id": "4e7f1bbc",
   "metadata": {},
   "outputs": [
    {
     "data": {
      "text/plain": [
       "array([[[0., 0., 0., ..., 0., 0., 0.],\n",
       "        [0., 0., 0., ..., 0., 0., 0.],\n",
       "        [0., 0., 0., ..., 0., 0., 0.],\n",
       "        ...,\n",
       "        [0., 0., 0., ..., 0., 0., 0.],\n",
       "        [0., 0., 0., ..., 0., 0., 0.],\n",
       "        [0., 0., 0., ..., 0., 0., 0.]]])"
      ]
     },
     "execution_count": 18,
     "metadata": {},
     "output_type": "execute_result"
    }
   ],
   "source": [
    "lnir_c=lnir.read().astype('float64') \n",
    "lnir_c"
   ]
  },
  {
   "cell_type": "code",
   "execution_count": 7,
   "id": "4d706929",
   "metadata": {},
   "outputs": [],
   "source": [
    "l8b10=rasterio.open(r\"C:\\Users\\Ahammad Sahil\\Desktop\\SEM 2\\GA LAB\\nikil\\satelite\\landsat08\\landsat 8\\LC08_L1TP_144053_20210214_20210304_01_T1\\LC08_L1TP_144053_20210214_20210304_01_T1_B10.TIF\")\n",
    "l8b11=rasterio.open(r\"C:\\Users\\Ahammad Sahil\\Desktop\\SEM 2\\GA LAB\\nikil\\satelite\\landsat08\\landsat 8\\LC08_L1TP_144053_20210214_20210304_01_T1\\LC08_L1TP_144053_20210214_20210304_01_T1_B11.TIF\")"
   ]
  },
  {
   "cell_type": "code",
   "execution_count": 8,
   "id": "faddeaa6",
   "metadata": {},
   "outputs": [
    {
     "data": {
      "text/plain": [
       "array([[[0., 0., 0., ..., 0., 0., 0.],\n",
       "        [0., 0., 0., ..., 0., 0., 0.],\n",
       "        [0., 0., 0., ..., 0., 0., 0.],\n",
       "        ...,\n",
       "        [0., 0., 0., ..., 0., 0., 0.],\n",
       "        [0., 0., 0., ..., 0., 0., 0.],\n",
       "        [0., 0., 0., ..., 0., 0., 0.]]])"
      ]
     },
     "execution_count": 8,
     "metadata": {},
     "output_type": "execute_result"
    }
   ],
   "source": [
    "l8b10_c=l8b10.read().astype('float64') \n",
    "l8b10_c"
   ]
  },
  {
   "cell_type": "code",
   "execution_count": 9,
   "id": "ffdc4cad",
   "metadata": {},
   "outputs": [
    {
     "data": {
      "text/plain": [
       "array([[[0., 0., 0., ..., 0., 0., 0.],\n",
       "        [0., 0., 0., ..., 0., 0., 0.],\n",
       "        [0., 0., 0., ..., 0., 0., 0.],\n",
       "        ...,\n",
       "        [0., 0., 0., ..., 0., 0., 0.],\n",
       "        [0., 0., 0., ..., 0., 0., 0.],\n",
       "        [0., 0., 0., ..., 0., 0., 0.]]])"
      ]
     },
     "execution_count": 9,
     "metadata": {},
     "output_type": "execute_result"
    }
   ],
   "source": [
    "l8b11_c=l8b11.read().astype('float64') \n",
    "l8b11_c"
   ]
  },
  {
   "cell_type": "code",
   "execution_count": 7,
   "id": "23a75bd4",
   "metadata": {},
   "outputs": [
    {
     "data": {
      "text/plain": [
       "'Lλ = ML * Qcal + AL\\nWhere: \\nLλ = TOA spectral radiance (Watts/ (m2 * sr * μm))\\nML = Radiance multiplicative Band (No.)\\nAL = Radiance Add Band (No.)\\nQcal = Quantized and calibrated standard product pixel values (DN) '"
      ]
     },
     "execution_count": 7,
     "metadata": {},
     "output_type": "execute_result"
    }
   ],
   "source": [
    "#i. Top of Atmosphere (TOA) Radiance:\n",
    "'''(TOA)Lλ = ML * Qcal + AL\n",
    "Where: \n",
    "Lλ = TOA spectral radiance (Watts/ (m2 * sr * μm))\n",
    "ML = Radiance multiplicative Band (No.)\n",
    "AL = Radiance Add Band (No.)\n",
    "Qcal = Quantized and calibrated standard product pixel values (DN) '''"
   ]
  },
  {
   "cell_type": "code",
   "execution_count": 11,
   "id": "6efb6169",
   "metadata": {},
   "outputs": [
    {
     "data": {
      "text/plain": [
       "array([[[0.1, 0.1, 0.1, ..., 0.1, 0.1, 0.1],\n",
       "        [0.1, 0.1, 0.1, ..., 0.1, 0.1, 0.1],\n",
       "        [0.1, 0.1, 0.1, ..., 0.1, 0.1, 0.1],\n",
       "        ...,\n",
       "        [0.1, 0.1, 0.1, ..., 0.1, 0.1, 0.1],\n",
       "        [0.1, 0.1, 0.1, ..., 0.1, 0.1, 0.1],\n",
       "        [0.1, 0.1, 0.1, ..., 0.1, 0.1, 0.1]]])"
      ]
     },
     "execution_count": 11,
     "metadata": {},
     "output_type": "execute_result"
    }
   ],
   "source": [
    "TOA_10=0.0003342 * l8b10_c +  0.10000\n",
    "TOA_10"
   ]
  },
  {
   "cell_type": "code",
   "execution_count": 12,
   "id": "703149b8",
   "metadata": {},
   "outputs": [
    {
     "data": {
      "text/plain": [
       "array([[[0.1, 0.1, 0.1, ..., 0.1, 0.1, 0.1],\n",
       "        [0.1, 0.1, 0.1, ..., 0.1, 0.1, 0.1],\n",
       "        [0.1, 0.1, 0.1, ..., 0.1, 0.1, 0.1],\n",
       "        ...,\n",
       "        [0.1, 0.1, 0.1, ..., 0.1, 0.1, 0.1],\n",
       "        [0.1, 0.1, 0.1, ..., 0.1, 0.1, 0.1],\n",
       "        [0.1, 0.1, 0.1, ..., 0.1, 0.1, 0.1]]])"
      ]
     },
     "execution_count": 12,
     "metadata": {},
     "output_type": "execute_result"
    }
   ],
   "source": [
    "TOA_11=0.0003342 * l8b11_c +  0.10000\n",
    "TOA_11"
   ]
  },
  {
   "cell_type": "code",
   "execution_count": null,
   "id": "21cbb443",
   "metadata": {},
   "outputs": [],
   "source": [
    "'''Spectral radiance data can be converted to top of atmosphere brightness temperature using the thermal constant Values in Meta \n",
    "data file.\n",
    "BT = K2 / ln (k1 / Lλ + 1) - 273.15\n",
    "Where:\n",
    "BT = Top of atmosphere brightness temperature (°C)\n",
    "Lλ = TOA spectral radiance (Watts/( m2 * sr * μm))\n",
    "K1 = K1 Constant Band (No.)\n",
    "K2 = K2 Constant Band (No.)'''"
   ]
  },
  {
   "cell_type": "code",
   "execution_count": 14,
   "id": "41e03fe7",
   "metadata": {
    "scrolled": true
   },
   "outputs": [
    {
     "data": {
      "text/plain": [
       "array([[[-125.63290426, -125.63290426, -125.63290426, ...,\n",
       "         -125.63290426, -125.63290426, -125.63290426],\n",
       "        [-125.63290426, -125.63290426, -125.63290426, ...,\n",
       "         -125.63290426, -125.63290426, -125.63290426],\n",
       "        [-125.63290426, -125.63290426, -125.63290426, ...,\n",
       "         -125.63290426, -125.63290426, -125.63290426],\n",
       "        ...,\n",
       "        [-125.63290426, -125.63290426, -125.63290426, ...,\n",
       "         -125.63290426, -125.63290426, -125.63290426],\n",
       "        [-125.63290426, -125.63290426, -125.63290426, ...,\n",
       "         -125.63290426, -125.63290426, -125.63290426],\n",
       "        [-125.63290426, -125.63290426, -125.63290426, ...,\n",
       "         -125.63290426, -125.63290426, -125.63290426]]])"
      ]
     },
     "execution_count": 14,
     "metadata": {},
     "output_type": "execute_result"
    }
   ],
   "source": [
    "bt_10= (1321.0789/np.log((774.8853/TOA_10)+1)-273.15)\n",
    "bt_10"
   ]
  },
  {
   "cell_type": "code",
   "execution_count": 16,
   "id": "d11e49cf",
   "metadata": {},
   "outputs": [
    {
     "data": {
      "text/plain": [
       "array([[[-131.47937491, -131.47937491, -131.47937491, ...,\n",
       "         -131.47937491, -131.47937491, -131.47937491],\n",
       "        [-131.47937491, -131.47937491, -131.47937491, ...,\n",
       "         -131.47937491, -131.47937491, -131.47937491],\n",
       "        [-131.47937491, -131.47937491, -131.47937491, ...,\n",
       "         -131.47937491, -131.47937491, -131.47937491],\n",
       "        ...,\n",
       "        [-131.47937491, -131.47937491, -131.47937491, ...,\n",
       "         -131.47937491, -131.47937491, -131.47937491],\n",
       "        [-131.47937491, -131.47937491, -131.47937491, ...,\n",
       "         -131.47937491, -131.47937491, -131.47937491],\n",
       "        [-131.47937491, -131.47937491, -131.47937491, ...,\n",
       "         -131.47937491, -131.47937491, -131.47937491]]])"
      ]
     },
     "execution_count": 16,
     "metadata": {},
     "output_type": "execute_result"
    }
   ],
   "source": [
    "bt_11=(1201.1442/np.log((480.8883/TOA_10)+1)-273.15)\n",
    "bt_11"
   ]
  },
  {
   "cell_type": "code",
   "execution_count": null,
   "id": "307f8c2b",
   "metadata": {},
   "outputs": [],
   "source": [
    "'''iii. Normalized Differential Vegetation Index (NDVI):\n",
    "The Normalized Differential Vegetation Index (NDVI) is a standardized vegetation index which Calculated using Near Infra-red\n",
    "(Bnad 5) and Red (Band 4) bands.\n",
    "NDVI = (NIR – RED) / (NIR + RED)\n",
    "Where:\n",
    "RED= DN values from the RED band\n",
    "NIR= DN values from Near-Infrared band'''"
   ]
  },
  {
   "cell_type": "code",
   "execution_count": 25,
   "id": "e2c643ba",
   "metadata": {},
   "outputs": [
    {
     "name": "stderr",
     "output_type": "stream",
     "text": [
      "C:\\Users\\Ahammad Sahil\\AppData\\Local\\Temp\\ipykernel_8044\\3211547342.py:1: RuntimeWarning: invalid value encountered in true_divide\n",
      "  NDVI=np.where((lnir_c+lred_c)==0,0,(lnir_c-lred_c)/(lnir_c+lred_c))\n"
     ]
    }
   ],
   "source": [
    "NDVI=np.where((lnir_c+lred_c)==0,0,(lnir_c-lred_c)/(lnir_c+lred_c))"
   ]
  },
  {
   "cell_type": "code",
   "execution_count": 26,
   "id": "3f154084",
   "metadata": {},
   "outputs": [
    {
     "data": {
      "text/plain": [
       "(-1.0, 1.0)"
      ]
     },
     "execution_count": 26,
     "metadata": {},
     "output_type": "execute_result"
    }
   ],
   "source": [
    "ndvi_min=NDVI.min()   #range of NDVI\n",
    "ndvi_max=NDVI.max()\n",
    "ndvi_min,ndvi_max"
   ]
  },
  {
   "cell_type": "code",
   "execution_count": null,
   "id": "500fc9dc",
   "metadata": {},
   "outputs": [],
   "source": [
    "'''iv: Land Surface Emissivity (LSE):\n",
    "Land surface emissivity (LSE) is the average emissivity of an element of the surface of the Earth calculated from NDVI values.\n",
    "PV = [(NDVI – NDVI min) / (NDVI max + NDVI min)]^2\n",
    "Where:\n",
    "PV = Proportion of Vegitation\n",
    "NDVI = DN values from NDVI Image\n",
    "NDVI min = Minimum DN values from NDVI Image\n",
    "NDVI max = Maximum DN values from NDVI Image\n",
    "E = 0.004 * PV + 0.986\n",
    "Where:\n",
    "E = Land Surface Emissivity\n",
    "PV = Proportion of Vegitation '''"
   ]
  },
  {
   "cell_type": "code",
   "execution_count": 30,
   "id": "e0003e19",
   "metadata": {},
   "outputs": [
    {
     "data": {
      "text/plain": [
       "array([[[0.25, 0.25, 0.25, ..., 0.25, 0.25, 0.25],\n",
       "        [0.25, 0.25, 0.25, ..., 0.25, 0.25, 0.25],\n",
       "        [0.25, 0.25, 0.25, ..., 0.25, 0.25, 0.25],\n",
       "        ...,\n",
       "        [0.25, 0.25, 0.25, ..., 0.25, 0.25, 0.25],\n",
       "        [0.25, 0.25, 0.25, ..., 0.25, 0.25, 0.25],\n",
       "        [0.25, 0.25, 0.25, ..., 0.25, 0.25, 0.25]]])"
      ]
     },
     "execution_count": 30,
     "metadata": {},
     "output_type": "execute_result"
    }
   ],
   "source": [
    "PV = np.square((NDVI-ndvi_min) / (ndvi_max - ndvi_min))\n",
    "PV"
   ]
  },
  {
   "cell_type": "code",
   "execution_count": 32,
   "id": "862b42b6",
   "metadata": {},
   "outputs": [
    {
     "data": {
      "text/plain": [
       "array([[[0.987, 0.987, 0.987, ..., 0.987, 0.987, 0.987],\n",
       "        [0.987, 0.987, 0.987, ..., 0.987, 0.987, 0.987],\n",
       "        [0.987, 0.987, 0.987, ..., 0.987, 0.987, 0.987],\n",
       "        ...,\n",
       "        [0.987, 0.987, 0.987, ..., 0.987, 0.987, 0.987],\n",
       "        [0.987, 0.987, 0.987, ..., 0.987, 0.987, 0.987],\n",
       "        [0.987, 0.987, 0.987, ..., 0.987, 0.987, 0.987]]])"
      ]
     },
     "execution_count": 32,
     "metadata": {},
     "output_type": "execute_result"
    }
   ],
   "source": [
    "E = 0.004 * PV + 0.986\n",
    "E"
   ]
  },
  {
   "cell_type": "code",
   "execution_count": null,
   "id": "ea1688ff",
   "metadata": {},
   "outputs": [],
   "source": [
    "'''Land Surface Temperature (LST):\n",
    "The Land Surface Temperature (LST) is the radiative temperature Which calculated using Top of atmosphere brightness \n",
    "temperature, Wavelength of emitted radiance, Land Surface Emissivity.\n",
    "LST = (BT / 1) + W * (BT / 14380) * ln(E)\n",
    "Where:\n",
    "BT = Top of atmosphere brightness temperature (°C)\n",
    "W = Wavelength of emitted radiance\n",
    "E = Land Surface Emissivity'''\n"
   ]
  },
  {
   "cell_type": "code",
   "execution_count": 40,
   "id": "d50bc9cd",
   "metadata": {},
   "outputs": [
    {
     "data": {
      "text/plain": [
       "array([[[-128.55613958, -128.55613958, -128.55613958, ...,\n",
       "         -128.55613958, -128.55613958, -128.55613958],\n",
       "        [-128.55613958, -128.55613958, -128.55613958, ...,\n",
       "         -128.55613958, -128.55613958, -128.55613958],\n",
       "        [-128.55613958, -128.55613958, -128.55613958, ...,\n",
       "         -128.55613958, -128.55613958, -128.55613958],\n",
       "        ...,\n",
       "        [-128.55613958, -128.55613958, -128.55613958, ...,\n",
       "         -128.55613958, -128.55613958, -128.55613958],\n",
       "        [-128.55613958, -128.55613958, -128.55613958, ...,\n",
       "         -128.55613958, -128.55613958, -128.55613958],\n",
       "        [-128.55613958, -128.55613958, -128.55613958, ...,\n",
       "         -128.55613958, -128.55613958, -128.55613958]]])"
      ]
     },
     "execution_count": 40,
     "metadata": {},
     "output_type": "execute_result"
    }
   ],
   "source": [
    "bt_1011=(bt_10+bt_11)/2\n",
    "bt_1011"
   ]
  },
  {
   "cell_type": "code",
   "execution_count": 41,
   "id": "f8945611",
   "metadata": {},
   "outputs": [
    {
     "data": {
      "text/plain": [
       "array([[[-128.5547943, -128.5547943, -128.5547943, ..., -128.5547943,\n",
       "         -128.5547943, -128.5547943],\n",
       "        [-128.5547943, -128.5547943, -128.5547943, ..., -128.5547943,\n",
       "         -128.5547943, -128.5547943],\n",
       "        [-128.5547943, -128.5547943, -128.5547943, ..., -128.5547943,\n",
       "         -128.5547943, -128.5547943],\n",
       "        ...,\n",
       "        [-128.5547943, -128.5547943, -128.5547943, ..., -128.5547943,\n",
       "         -128.5547943, -128.5547943],\n",
       "        [-128.5547943, -128.5547943, -128.5547943, ..., -128.5547943,\n",
       "         -128.5547943, -128.5547943],\n",
       "        [-128.5547943, -128.5547943, -128.5547943, ..., -128.5547943,\n",
       "         -128.5547943, -128.5547943]]])"
      ]
     },
     "execution_count": 41,
     "metadata": {},
     "output_type": "execute_result"
    }
   ],
   "source": [
    "LST = (bt_1011 / 1) +  11.5 * (bt_1011 / 14380) * np.log(E)\n",
    "LST"
   ]
  },
  {
   "cell_type": "code",
   "execution_count": 42,
   "id": "2d481ac4",
   "metadata": {},
   "outputs": [
    {
     "data": {
      "image/png": "[encoded data removed]",
      "text/plain": [
       "<Figure size 432x288 with 1 Axes>"
      ]
     },
     "metadata": {
      "needs_background": "light"
     },
     "output_type": "display_data"
    },
    {
     "data": {
      "text/plain": [
       "<AxesSubplot:>"
      ]
     },
     "execution_count": 42,
     "metadata": {},
     "output_type": "execute_result"
    }
   ],
   "source": [
    "show(LST)\n"
   ]
  },
  {
   "cell_type": "code",
   "execution_count": null,
   "id": "53a8d517",
   "metadata": {},
   "outputs": [],
   "source": []
  }
 ],
 "metadata": {
  "kernelspec": {
   "display_name": "Python 3 (ipykernel)",
   "language": "python",
   "name": "python3"
  },
  "language_info": {
   "codemirror_mode": {
    "name": "ipython",
    "version": 3
   },
   "file_extension": ".py",
   "mimetype": "text/x-python",
   "name": "python",
   "nbconvert_exporter": "python",
   "pygments_lexer": "ipython3",
   "version": "3.9.7"
  }
 },
 "nbformat": 4,
 "nbformat_minor": 5
}
